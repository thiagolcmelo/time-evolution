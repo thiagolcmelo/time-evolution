{
 "cells": [
  {
   "cell_type": "markdown",
   "metadata": {},
   "source": [
    "# Segregação do In em poços quânticos de $In_x Ga_{1-x} As$ sobre $GaAs$\n",
    "\n",
    "Abaixo estão as bibliotecas e configurações utilizadas."
   ]
  },
  {
   "cell_type": "code",
   "execution_count": 21,
   "metadata": {},
   "outputs": [],
   "source": [
    "import warnings\n",
    "warnings.filterwarnings('error')\n",
    "\n",
    "%matplotlib inline\n",
    "import numpy as np\n",
    "import matplotlib as mpl\n",
    "import matplotlib.pyplot as plt\n",
    "import seaborn as sns\n",
    "sns.set(rc={'figure.figsize':(12,8)})\n",
    "\n",
    "import scipy.constants as cte\n",
    "from scipy.signal import gaussian\n",
    "from scipy.special import legendre\n",
    "from scipy.sparse import diags\n",
    "from scipy.linalg import inv\n",
    "from scipy.integrate import simps\n",
    "from scipy.optimize import newton\n",
    "\n",
    "# constantes\n",
    "au_l   = cte.value('atomic unit of length')\n",
    "au_t   = cte.value('atomic unit of time')\n",
    "au_e   = cte.value('atomic unit of energy')\n",
    "ev     = cte.value('electron volt')\n",
    "au2ang = au_l / 1e-10\n",
    "au2ev  = au_e / ev"
   ]
  },
  {
   "cell_type": "markdown",
   "metadata": {},
   "source": [
    "## Parâmetros Macro"
   ]
  },
  {
   "cell_type": "code",
   "execution_count": 2,
   "metadata": {},
   "outputs": [],
   "source": [
    "N = 2048"
   ]
  },
  {
   "cell_type": "markdown",
   "metadata": {},
   "source": [
    "## Funções para obtenção de níveis de energia"
   ]
  },
  {
   "cell_type": "code",
   "execution_count": 3,
   "metadata": {},
   "outputs": [],
   "source": [
    "def fi(v, i):\n",
    "    \"\"\"\n",
    "    short for flex_index, find the index i in array v\n",
    "    i might be float, so that for i = 1.5, returns\n",
    "    (v[2]+v[1])/2\n",
    "    \"\"\"\n",
    "    if i < 0.0:\n",
    "        return v[0]\n",
    "    elif i >= len(v) - 1:\n",
    "        return v[-1]\n",
    "    \n",
    "    try:\n",
    "        i_up   = int(np.ceil(i))\n",
    "        i_down = int(np.floor(i))\n",
    "        return (v[i_up]+v[i_down])/2.0\n",
    "    except:\n",
    "        return 0.0\n",
    "    \n",
    "def eigenvalue(z, V, psi, m):\n",
    "    \"\"\"\n",
    "    calculate eigenvalue like E=<Psi|H|Psi>/<Psi|Psi>\n",
    "    \"\"\"\n",
    "    dz    = z[1]-z[0]\n",
    "    dz2   = dz**2\n",
    "    h_psi = np.zeros(N, dtype=np.complex_)\n",
    "    \n",
    "    for i in range(N):\n",
    "        h_psi[i] = ((0.5/dz2)*(1.0/fi(m,i+0.5)+1.0/fi(m,i-0.5))+V[i])*psi[i]\n",
    "        \n",
    "        if i > 0:\n",
    "            h_psi[i] += -(0.5/dz2)*(psi[i-1]/fi(m,i-0.5))\n",
    "            \n",
    "        if i < N-1:\n",
    "            h_psi[i] += -(0.5/dz2)*(psi[i+1]/fi(m,i+0.5))\n",
    "            \n",
    "    psi_h_psi = simps(psi.conj()*h_psi, z)\n",
    "    return (psi_h_psi / simps(psi.conj()*psi, z)).real\n",
    "    \n",
    "    \n",
    "def fundamental(z, V, m):\n",
    "    \"\"\"\n",
    "    finds the fundamental state under potential V for coordinate\n",
    "    space z and effective mass m\n",
    "    everything is expected to be in atomic units\n",
    "    \"\"\"\n",
    "    \n",
    "    dz  = z[1]-z[0]\n",
    "    dz2 = dz**2\n",
    "    \n",
    "    # kick start function\n",
    "    psi       = np.array(gaussian(N, std=int(N/100)), dtype=np.complex_)\n",
    "    psi      /= np.sqrt(simps(psi.conj()*psi,z))\n",
    "    \n",
    "    sub_diag  = np.zeros(N-1, dtype=np.complex_)\n",
    "    main_diag = np.zeros(N  , dtype=np.complex_)\n",
    "\n",
    "    for i in range(N):\n",
    "        try:\n",
    "            main_diag[i] = (0.5/dz2)*(1.0/fi(m,i+0.5)+1.0/fi(m,i-0.5))+V[i]\n",
    "        except:\n",
    "            main_diag[i] = 0.0\n",
    "        \n",
    "        if i < N-1:\n",
    "            sub_diag[i] = -(0.5/dz2)*(1.0/fi(m,i+0.5))\n",
    "    \n",
    "    diagonals = [main_diag, sub_diag, sub_diag]\n",
    "    A         = diags(diagonals, [0, -1, 1]).toarray()\n",
    "    invA      = inv(A)\n",
    "    \n",
    "    counter   = 0\n",
    "    precision = 1.0\n",
    "    lastval   = 100.0\n",
    "    eigenval  = 0.0\n",
    "    \n",
    "    while True:\n",
    "        counter  += 1\n",
    "        psi       = invA.dot(psi)\n",
    "        #psi      /= np.sqrt(simps(psi.conj()*psi, z))\n",
    "        eigenval  = eigenvalue(z, V, psi, m)\n",
    "        precision = np.abs(1-eigenval/lastval)\n",
    "        lastval   = eigenval\n",
    "        \n",
    "        if precision < 1e-8:\n",
    "            break\n",
    "        \n",
    "    \n",
    "    return {\n",
    "        'eigenvalue': eigenval,\n",
    "        'eigenvector': psi\n",
    "    }"
   ]
  },
  {
   "cell_type": "markdown",
   "metadata": {},
   "source": [
    "## Aplicação ao nível fundamental de um poço de $Al_x Ga_{1-x} As/GaAs$\n",
    "\n",
    "Vamos aplicar as funções acima à um poço de $Al_x Ga_{1-x} As/GaAs$ com $x=0.0$ dentro do poço e $x=0.4$ nas barreiras e largura de $80$ Angstrom. A fórmula para o GAP a $0 K$ é dada por:\n",
    "\n",
    "$$E_g (x) = 1.519+1.447x -0.15 x^2 \\,\\,\\,\\, (eV)$$\n",
    "\n",
    "No caso:\n",
    "\n",
    "$$E_g(0.0) = 1,519 \\,\\,\\,\\, (eV)$$\n",
    "$$E_g(0.2) = 1,8024 \\,\\,\\,\\, (eV)$$\n",
    "\n",
    "O GAP do Vamos escolher o *band offset* como $70\\%$ da diferença de GAP para a banda de condução e $30\\%$ para a banda de valência. Como na figura à seguir:"
   ]
  },
  {
   "cell_type": "code",
   "execution_count": 8,
   "metadata": {},
   "outputs": [
    {
     "data": {
      "text/plain": [
       "[]"
      ]
     },
     "execution_count": 8,
     "metadata": {},
     "output_type": "execute_result"
    },
    {
     "data": {
      "image/png": "[encoded data removed]",
      "text/plain": [
       "<matplotlib.figure.Figure at 0x7f529b493588>"
      ]
     },
     "metadata": {},
     "output_type": "display_data"
    }
   ],
   "source": [
    "g_algaas = lambda x: 1.519+1.447*x-0.15*x**2 # GAP\n",
    "m_algaas = lambda x: 0.067+0.083*x # effective mass\n",
    "x_b      = 0.2 # barrier\n",
    "x_w      = 0.0 # well\n",
    "wl       = 80.0 # Angstrom\n",
    "VBO      = 0.3\n",
    "CBO      = 0.7\n",
    "z_ang    = np.linspace(-250.0, 250.0, N) # Angstrom\n",
    "v_shape  = lambda z: g_algaas(x_b) if np.abs(z) > wl/2 else g_algaas(x_w)\n",
    "m_shape  = lambda z: m_algaas(x_b) if np.abs(z) > wl/2 else m_algaas(x_w)\n",
    "\n",
    "# only conduction and set zero to well's bottom\n",
    "V          = np.vectorize(v_shape)(z_ang)*CBO\n",
    "V         -= np.min(V)\n",
    "\n",
    "# efffective mass \n",
    "meff       = np.vectorize(m_shape)(z_ang)\n",
    "\n",
    "plt.xlabel('$z (\\AA)$')\n",
    "plt.ylabel('$V (eV)$')\n",
    "plt.plot(z_ang, V)\n",
    "plt.plot()"
   ]
  },
  {
   "cell_type": "markdown",
   "metadata": {},
   "source": [
    "Nosso potencial está em $eV$, vamos converter ele para unidades atômicas, fazendo o mesmo para o vetor de coordenadas."
   ]
  },
  {
   "cell_type": "code",
   "execution_count": 9,
   "metadata": {},
   "outputs": [],
   "source": [
    "V_au = V / au2ev\n",
    "z_au = z_ang / au2ang"
   ]
  },
  {
   "cell_type": "markdown",
   "metadata": {},
   "source": [
    "Vamos agora calcular o primeiro nível de energia"
   ]
  },
  {
   "cell_type": "code",
   "execution_count": 18,
   "metadata": {},
   "outputs": [
    {
     "name": "stdout",
     "output_type": "stream",
     "text": [
      "E0 = 0.0398 eV\n"
     ]
    }
   ],
   "source": [
    "res = fundamental(z_au, V_au, meff)\n",
    "value  = res['eigenvalue'] * au2ev # in eV\n",
    "\n",
    "# change from au to ang\n",
    "vector  = res['eigenvector']\n",
    "vector /= np.sqrt(simps(vector.conj()*vector, z_ang))\n",
    "\n",
    "print(r\"E0 = %.4f eV\" % value)"
   ]
  },
  {
   "cell_type": "markdown",
   "metadata": {},
   "source": [
    "A solução analítica para esse potencial pode ser obtida a para\n",
    "\n",
    "$$\n",
    "\\tan \\left( \\sqrt{\\frac{a^2 m_e^* E_n}{2 \\hbar^2}} \\right) = \\sqrt{\\frac{(V_b-E_n)}{E_n}} \\\\\n",
    "\\cot \\left( \\sqrt{\\frac{a^2 m_e^* E_n}{2 \\hbar^2}} \\right) = -\\sqrt{\\frac{(V_b-E_n)}{E_n}}\n",
    "$$\n",
    "\n",
    "Onde $a=80$ Angstrom e $V_b=0.7 \\times (E_g(0.2)-E_g(0.0))$. Para a solução analítica, adotamos $m_e^*$ como sendo a massa efetiva do elétron dentro do poço, ou seja, a massa efetiva do $GaAs$ ($0.067$)."
   ]
  },
  {
   "cell_type": "code",
   "execution_count": 26,
   "metadata": {},
   "outputs": [
    {
     "name": "stdout",
     "output_type": "stream",
     "text": [
      "E0 = 0.0423 eV\n",
      "E1 = 0.1526 eV\n"
     ]
    }
   ],
   "source": [
    "m_eff = 0.067\n",
    "wl_au = wl / au2ang\n",
    "vb_au = np.ptp(V_au)\n",
    "\n",
    "trans_tan = lambda e: np.tan(\n",
    "        np.sqrt(2*m_eff*e)*wl_au/2\n",
    "    ) - np.sqrt(vb_au/e - 1.0)\n",
    "\n",
    "trans_tan_der = lambda e: 1.0 / np.cos(\n",
    "        np.sqrt(2*m_eff*e)*wl_au/2\n",
    "    )**2 * (\n",
    "        m_eff * wl_au / (2 * np.sqrt(2*m_eff*e))\n",
    "    ) + vb_au / (2.0 * e**2 * np.sqrt(vb_au/e - 1.0))\n",
    "\n",
    "trans_cot = lambda e: 1.0 / np.tan(\n",
    "        np.sqrt(2*m_eff*e)*wl_au/2\n",
    "    ) + np.sqrt(vb_au/e - 1.0)\n",
    "\n",
    "trans_cot_der = lambda e: -1.0 / np.sin(\n",
    "        np.sqrt(2*m_eff*e)*wl_au/2\n",
    "    )**2 * (\n",
    "        m_eff * wl_au / (2 * np.sqrt(2*m_eff*e))\n",
    "    ) - vb_au / (2.0 * e**2 * np.sqrt(vb_au/e - 1.0))\n",
    "\n",
    "t_functions = [\n",
    "    (trans_tan,trans_tan_der),\n",
    "    (trans_cot, trans_cot_der)\n",
    "]\n",
    "\n",
    "# kickstart energies values\n",
    "energies = np.linspace(-0.1*vb_au, 1.1*vb_au, 10000)\n",
    "eigenvalues = []\n",
    "for f,fp in t_functions:\n",
    "    for e0 in energies:\n",
    "        try:\n",
    "            root = newton(f, x0=e0, fprime=fp)\n",
    "            if root > 0:\n",
    "                eigenvalues.append(root * au2ev)\n",
    "        except:\n",
    "            pass\n",
    "\n",
    "eigenvalues = np.array(list(sorted(set(eigenvalues))))\n",
    "\n",
    "# eigenvalues at this point is a huge list with almost\n",
    "# 2000 elements, many of them almost the same, duo to \n",
    "# kickstart values leading to the same eigenvalue \n",
    "# the code bellow identifies the proper ranges and get the\n",
    "# average of each, actually, the difference is only\n",
    "# the numerical error, which is about 1e-11 eV for an \n",
    "# eigenvalue of order 0.01 eV\n",
    "offset = [0]\n",
    "for i in range(1, eigenvalues.size):\n",
    "    if np.abs(eigenvalues[i] / \\\n",
    "            np.average(eigenvalues[offset[-1]:i])-1.0) > 0.01:\n",
    "        offset.append(i)\n",
    "offset.append(len(eigenvalues))\n",
    "eigenvalues = [np.average(eigenvalues[offset[i]:offset[i+1]]) \\\n",
    "    for i in range(len(offset)-1)]\n",
    "\n",
    "for i, eigen in enumerate(eigenvalues):\n",
    "    print(\"E%d = %.4f eV\" % (i, eigen))"
   ]
  },
  {
   "cell_type": "markdown",
   "metadata": {},
   "source": [
    "Vemos que o primeiro autovalor analítico está em grande acordo com o valor obtido numericamente.\n",
    "\n",
    "$$\n",
    "\\Delta \\approx 0.0423 - 0.0398 = 0.0025 eV\n",
    "$$\n",
    "\n",
    "Vale lembrar ainda que enquanto o método numérico enxerga a massa efetiva diferente do lado de fora do poço, a solução analítica só vale para uma massa efetiva constante dentro e fora do poço."
   ]
  },
  {
   "cell_type": "markdown",
   "metadata": {},
   "source": [
    "## PL do $In_{0.14} Ga_{0.86} As$ sobre $GaAs$\n",
    "\n",
    "Vamos agora passo a passo tentar reproduzir os valores obtidos experimentalmente.\n",
    "\n",
    "Amostra crescida a 475 °C e PL medida a 77 K:\n",
    "\n",
    "> ML=10, PL= 1.43681 eV\n",
    "\n",
    "> ML=15, PL= 1.40565 ev\n",
    "\n",
    "> ML=21, PL= 1.38018 eV\n",
    "\n",
    "> ML=28, PL= 1.36112 eV\n",
    "\n",
    "Amostra crescida a 525 °C e PL medida a 77 K:\n",
    "\n",
    "> ML=10, PL= 1.45091 eV\n",
    "\n",
    "> ML=15, PL= 1.42051 ev\n",
    "\n",
    "> ML=21, PL= 1.39425 eV\n",
    "\n",
    "> ML=28, PL= 1.37454 ev\n",
    "\n",
    "Onde ML é abreviação de Monolayers (metade do parametro de rede).\n",
    "\n",
    "Apenas para fins de comparação gradual:"
   ]
  },
  {
   "cell_type": "code",
   "execution_count": 30,
   "metadata": {},
   "outputs": [],
   "source": [
    "samples = {\n",
    "    'ml': [10, 15, 21, 28],\n",
    "    475: [1.43681, 1.40565, 1.38018, 1.36112],\n",
    "    525: [1.45091, 1.42051, 1.39425, 1.37454]\n",
    "}\n",
    "\n",
    "x0 = 0.14 # indended indium concentration"
   ]
  },
  {
   "cell_type": "markdown",
   "metadata": {},
   "source": [
    "Vamos começar com um poço de $InGaAs$ simples. Sendo GAP do $In_x Ga_{1-x} As$ a $2$ K dado por:\n",
    "\n",
    "$$\n",
    "E_g (x) = 1.522-1.1 x +0.4 x^2 \\,\\,\\,\\, eV\n",
    "$$\n",
    "\n",
    "Além disso, as massas efetivas do elétron e do buraco pesado na direção de crescimento (respectivamente) são dadas por:\n",
    "\n",
    "$$\n",
    "1/ m_e (x) = x/0.023 + (1-x)/0.067   \\\\\n",
    "1/ m_{hh_z} (x) = x/0.263 + (1-x)/0.333\n",
    "$$\n",
    "\n",
    "Por fim, o parâmetro de rede é dado por:\n",
    "\n",
    "$$\n",
    "a_0 (x) = 6.0584 x + 5.6533 (1-x)\n",
    "$$"
   ]
  },
  {
   "cell_type": "code",
   "execution_count": 31,
   "metadata": {},
   "outputs": [],
   "source": [
    "eg_2 = lambda x: 1.522-1.1*x+0.4*x**2\n",
    "me   = lambda x: 1.0/(x/0.023+(1-x)/0.067)\n",
    "mhh  = lambda x: 1.0/(x/0.263+(1-x)/0.333)\n",
    "a0   = lambda x: 6.0584*x + 5.6533*(1-x)"
   ]
  },
  {
   "cell_type": "markdown",
   "metadata": {},
   "source": [
    "Este potencial simplificado fica dado por:"
   ]
  },
  {
   "cell_type": "code",
   "execution_count": 32,
   "metadata": {},
   "outputs": [
    {
     "name": "stdout",
     "output_type": "stream",
     "text": [
      "ML = 10, PL (475) = 1.4368, PL (525) = 1.4509, PL_num = 1.4919\n",
      "ML = 15, PL (475) = 1.4057, PL (525) = 1.4205, PL_num = 1.4706\n",
      "ML = 21, PL (475) = 1.3802, PL (525) = 1.3942, PL_num = 1.4507\n",
      "ML = 28, PL (475) = 1.3611, PL (525) = 1.3745, PL_num = 1.4338\n"
     ]
    }
   ],
   "source": [
    "m_ingaas = lambda x: 0.067+0.083*x # effective mass\n",
    "x_b      = 0.0 # barrier\n",
    "x_w      = 0.14 # well\n",
    "VBO      = 0.3\n",
    "CBO      = 0.7\n",
    "z_ang    = np.linspace(-250.0, 250.0, N) # Angstrom\n",
    "z_au     = z_ang / au2ang # atomic units\n",
    "wl_lens  = [(a0(x0)/2.0) * nl for nl in samples['ml']]\n",
    "\n",
    "for i, ml in enumerate(samples['ml']):\n",
    "    wl = (a0(x0)/2.0) * ml\n",
    "    v_shape   = lambda z: eg_2(x_b) if np.abs(z) > wl/2 else eg_2(x_w)\n",
    "    me_shape  = lambda z: me(x_b) if np.abs(z) > wl/2 else me(x_w)\n",
    "    mhh_shape = lambda z: mhh(x_b) if np.abs(z) > wl/2 else mhh(x_w)\n",
    "    \n",
    "    Vc        = np.vectorize(v_shape)(z_ang)*CBO\n",
    "    Vv        = np.vectorize(v_shape)(z_ang)*VBO\n",
    "    Vc_red    = Vc-np.min(Vc)\n",
    "    Vv_red    = Vv-np.min(Vv)\n",
    "    Vc_au     = Vc_red / au2ev\n",
    "    Vv_au     = Vv_red / au2ev\n",
    "    \n",
    "    me_eff    = np.vectorize(me_shape)(z_ang)\n",
    "    mhh_eff   = np.vectorize(mhh_shape)(z_ang)\n",
    "  \n",
    "    GAP       = np.min(Vc+Vv)\n",
    "    res_e     = fundamental(z_au, Vc_au, me_eff)\n",
    "    eigen_e   = res_e['eigenvalue'] * au2ev # in eV\n",
    "    res_hh    = fundamental(z_au, Vv_au, me_eff)\n",
    "    eigen_hh  = res_hh['eigenvalue'] * au2ev # in eV\n",
    "\n",
    "    PL = GAP + eigen_e + eigen_hh\n",
    "    \n",
    "    print(\"ML = %d, PL (475) = %.4f, PL (525) = %.4f, PL_num = %.4f\" % (ml, samples[475][i], samples[525][i], PL))"
   ]
  },
  {
   "cell_type": "markdown",
   "metadata": {},
   "source": [
    "Apesar de os valores numéricos acima estarem bastante diferentes dos valores experimentais, é impressionante o quão próximos mesmo ignorando praticamente todos os efeitos que estão por vir na sequência.\n",
    "\n",
    "## Efeitos de Segregação\n",
    "\n",
    "Vamos começar a melhorar nosso modelo incluindo logo de cara a segregação."
   ]
  },
  {
   "cell_type": "code",
   "execution_count": null,
   "metadata": {},
   "outputs": [],
   "source": []
  }
 ],
 "metadata": {
  "kernelspec": {
   "display_name": "Python 3",
   "language": "python",
   "name": "python3"
  },
  "language_info": {
   "codemirror_mode": {
    "name": "ipython",
    "version": 3
   },
   "file_extension": ".py",
   "mimetype": "text/x-python",
   "name": "python",
   "nbconvert_exporter": "python",
   "pygments_lexer": "ipython3",
   "version": "3.6.3"
  }
 },
 "nbformat": 4,
 "nbformat_minor": 2
}
