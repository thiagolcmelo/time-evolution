{
 "cells": [
  {
   "cell_type": "code",
   "execution_count": 1,
   "metadata": {
    "collapsed": true
   },
   "outputs": [],
   "source": [
    "# load libraries and set plot parameters\n",
    "import numpy as np\n",
    "import matplotlib.pyplot as plt\n",
    "%matplotlib inline\n",
    "\n",
    "from IPython.display import set_matplotlib_formats\n",
    "set_matplotlib_formats('pdf', 'png')\n",
    "plt.rcParams['savefig.dpi'] = 75\n",
    "plt.rcParams['figure.autolayout'] = False\n",
    "#plt.rcParams['figure.figsize'] = 10, 6\n",
    "plt.rcParams['figure.figsize'] = 14, 8\n",
    "plt.rcParams['axes.labelsize'] = 18\n",
    "plt.rcParams['axes.titlesize'] = 20\n",
    "plt.rcParams['font.size'] = 16\n",
    "plt.rcParams['lines.linewidth'] = 2.0\n",
    "plt.rcParams['lines.markersize'] = 8\n",
    "plt.rcParams['legend.fontsize'] = 22\n",
    "plt.rcParams['text.usetex'] = True\n",
    "plt.rcParams['font.family'] = \"serif\"\n",
    "plt.rcParams['font.serif'] = \"cm\"\n",
    "\n",
    "import scipy.constants as cte\n",
    "from scipy.integrate import simps\n",
    "from scipy.signal import gaussian\n",
    "\n",
    "from core.evolution import imaginary\n",
    "from core.empirical import in_segregation\n",
    "\n",
    "au_l   = cte.value('atomic unit of length')\n",
    "au_t   = cte.value('atomic unit of time')\n",
    "au_e   = cte.value('atomic unit of energy')\n",
    "ev     = cte.value('electron volt')\n",
    "au2ang = au_l / 1e-10\n",
    "au2ev  = au_e / ev"
   ]
  },
  {
   "cell_type": "code",
   "execution_count": 21,
   "metadata": {},
   "outputs": [],
   "source": [
    "valores_x0 = {}\n",
    "for x0 in [3.25, 3.5, 3.75, 4.0]:\n",
    "    # otimizando\n",
    "    L = (x0 * au2ang) * 2 # angstron\n",
    "    N = 1024\n",
    "    hN = int(N/2)\n",
    "    dt = 5e-18 # s\n",
    "\n",
    "    # unidades atomicas\n",
    "    L_au = L / au2ang\n",
    "    dt_au = -1j * dt / au_t\n",
    "\n",
    "    # malhas direta e reciproca\n",
    "    x_au = np.linspace(-L_au/2.0, L_au/2.0, N)\n",
    "\n",
    "    # props do material\n",
    "    me_eff = 0.5\n",
    "    adw_k0 = 0.0#-132.7074997\n",
    "    k2 = 7.0\n",
    "    k3 = 0.5\n",
    "    k4 = 1.0\n",
    "    v_adw = lambda x: adw_k0-k2*x**2+k3*x**3+k4*x**4\n",
    "    v_au = np.vectorize(v_adw)(x_au)\n",
    "\n",
    "    valores = imaginary(x_au,v_au ,  me_eff, nmax=9, precision=1e-6)\n",
    "    valores_x0[x0] = valores"
   ]
  },
  {
   "cell_type": "code",
   "execution_count": 24,
   "metadata": {},
   "outputs": [
    {
     "data": {
      "text/plain": [
       "array([-12.25841771,  -6.04546034,  -5.28580938,  -0.64612098,\n",
       "         0.69161994,   4.05531264,   7.3694291 ,  11.24640821,  15.43169607])"
      ]
     },
     "execution_count": 24,
     "metadata": {},
     "output_type": "execute_result"
    }
   ],
   "source": [
    "valores_x0[3.5]['eigenvalues']"
   ]
  },
  {
   "cell_type": "code",
   "execution_count": 27,
   "metadata": {},
   "outputs": [
    {
     "data": {
      "text/plain": [
       "array([-333.56984504, -164.5057382 , -143.84273048,  -17.59156313,\n",
       "         18.80960582,  110.29311578,  200.5169851 ,  305.72800421,\n",
       "        419.91168633])"
      ]
     },
     "execution_count": 27,
     "metadata": {},
     "output_type": "execute_result"
    }
   ],
   "source": [
    "valores_x0[4.0]['eigenvalues']*au2ev"
   ]
  },
  {
   "cell_type": "code",
   "execution_count": 9,
   "metadata": {},
   "outputs": [
    {
     "data": {
      "text/plain": [
       "array([-333.56908841, -164.50420285, -143.84180831,  -17.59561691,\n",
       "         18.80861886,  110.29397894,  200.51898926,  305.73409906,\n",
       "        419.92387772])"
      ]
     },
     "execution_count": 9,
     "metadata": {},
     "output_type": "execute_result"
    }
   ],
   "source": [
    "np.array([-12.258438, -6.045418, -5.286089, -0.646627, 0.691204, 4.053229, 7.368937, 11.235521, 15.431918])*au2ev"
   ]
  },
  {
   "cell_type": "code",
   "execution_count": 10,
   "metadata": {},
   "outputs": [
    {
     "data": {
      "text/plain": [
       "array([-333.56965376, -164.50559808, -143.84193125,  -17.59094976,\n",
       "         18.81098088,  110.29577762,  200.5203479 ,  305.73889799,\n",
       "        419.91914044])"
      ]
     },
     "execution_count": 10,
     "metadata": {},
     "output_type": "execute_result"
    }
   ],
   "source": [
    "valores_x0[3.75]['eigenvalues']*au2ev"
   ]
  },
  {
   "cell_type": "code",
   "execution_count": 15,
   "metadata": {},
   "outputs": [
    {
     "data": {
      "text/plain": [
       "array([-333.57907499, -164.51154992, -143.8632781 ,  -17.59431076,\n",
       "         18.7860062 ,  110.26946149,  200.48274369,  305.68705057,\n",
       "        419.8588153 ])"
      ]
     },
     "execution_count": 15,
     "metadata": {},
     "output_type": "execute_result"
    }
   ],
   "source": [
    "np.array([-12.258805, -6.045688, -5.286878, -0.646579, 0.690373, 4.052328, 7.367605, 11.233792, 15.429527])*au2ev"
   ]
  },
  {
   "cell_type": "code",
   "execution_count": 16,
   "metadata": {},
   "outputs": [
    {
     "name": "stdout",
     "output_type": "stream",
     "text": [
      "[-333.58416352 -164.51432548 -143.93152425  -17.75627293   18.14520527\n",
      "  109.10522233  197.05835403  294.41418969  396.7719679 ]\n",
      "[-333.57959201 -164.51154992 -143.86866595  -17.60723617   18.76973379\n",
      "  110.24124328  200.40897363  305.50710168  419.41565066]\n",
      "[-333.57907499 -164.51154992 -143.8632781   -17.59431076   18.7860062\n",
      "  110.26946149  200.48274369  305.68705057  419.8588153 ]\n",
      "[-333.57891172 -164.51152271 -143.86276108  -17.59327673   18.78646879\n",
      "  110.27019619  200.48445801  305.69009825  419.8679039 ]\n"
     ]
    }
   ],
   "source": [
    "print(au2ev*np.array([-12.258992, -6.045790, -5.289386, -0.652531, 0.666824, 4.009543, 7.241761, 10.819522, 14.581101]))\n",
    "print(au2ev*np.array([-12.258824, -6.045688, -5.287076, -0.647054, 0.689775, 4.051291, 7.364894, 11.227179, 15.413241]))\n",
    "print(au2ev*np.array([-12.258805, -6.045688, -5.286878, -0.646579, 0.690373, 4.052328, 7.367605, 11.233792, 15.429527]))\n",
    "print(au2ev*np.array([-12.258799, -6.045687, -5.286859, -0.646541, 0.690390, 4.052355, 7.367668, 11.233904, 15.429861]))\n"
   ]
  },
  {
   "cell_type": "code",
   "execution_count": null,
   "metadata": {
    "collapsed": true
   },
   "outputs": [],
   "source": []
  }
 ],
 "metadata": {
  "kernelspec": {
   "display_name": "Python 3",
   "language": "python",
   "name": "python3"
  },
  "language_info": {
   "codemirror_mode": {
    "name": "ipython",
    "version": 3
   },
   "file_extension": ".py",
   "mimetype": "text/x-python",
   "name": "python",
   "nbconvert_exporter": "python",
   "pygments_lexer": "ipython3",
   "version": "3.6.3"
  },
  "latex_envs": {
   "LaTeX_envs_menu_present": true,
   "autocomplete": true,
   "bibliofile": "biblio.bib",
   "cite_by": "apalike",
   "current_citInitial": 1,
   "eqLabelWithNumbers": true,
   "eqNumInitial": 1,
   "hotkeys": {
    "equation": "Ctrl-E",
    "itemize": "Ctrl-I"
   },
   "labels_anchors": false,
   "latex_user_defs": false,
   "report_style_numbering": false,
   "user_envs_cfg": false
  },
  "varInspector": {
   "cols": {
    "lenName": 16,
    "lenType": 16,
    "lenVar": 40
   },
   "kernels_config": {
    "python": {
     "delete_cmd_postfix": "",
     "delete_cmd_prefix": "del ",
     "library": "var_list.py",
     "varRefreshCmd": "print(var_dic_list())"
    },
    "r": {
     "delete_cmd_postfix": ") ",
     "delete_cmd_prefix": "rm(",
     "library": "var_list.r",
     "varRefreshCmd": "cat(var_dic_list()) "
    }
   },
   "types_to_exclude": [
    "module",
    "function",
    "builtin_function_or_method",
    "instance",
    "_Feature"
   ],
   "window_display": false
  }
 },
 "nbformat": 4,
 "nbformat_minor": 2
}
