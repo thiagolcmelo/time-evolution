{
 "cells": [
  {
   "cell_type": "markdown",
   "metadata": {},
   "source": [
    "# bibliotecas utilizadas"
   ]
  },
  {
   "cell_type": "code",
   "execution_count": 1,
   "metadata": {
    "collapsed": true
   },
   "outputs": [],
   "source": [
    "# load libraries and set plot parameters\n",
    "import numpy as np\n",
    "import matplotlib.pyplot as plt\n",
    "%matplotlib inline\n",
    "\n",
    "from IPython.display import set_matplotlib_formats\n",
    "set_matplotlib_formats('pdf', 'png')\n",
    "plt.rcParams['savefig.dpi'] = 75\n",
    "plt.rcParams['figure.autolayout'] = False\n",
    "plt.rcParams['figure.figsize'] = 10, 6\n",
    "plt.rcParams['axes.labelsize'] = 18\n",
    "plt.rcParams['axes.titlesize'] = 20\n",
    "plt.rcParams['font.size'] = 16\n",
    "plt.rcParams['lines.linewidth'] = 2.0\n",
    "plt.rcParams['lines.markersize'] = 8\n",
    "plt.rcParams['legend.fontsize'] = 14\n",
    "plt.rcParams['text.usetex'] = True\n",
    "plt.rcParams['font.family'] = \"serif\"\n",
    "plt.rcParams['font.serif'] = \"cm\"\n",
    "\n",
    "import scipy.constants as cte\n",
    "from scipy.integrate import simps\n",
    "from scipy.signal import gaussian\n",
    "\n",
    "from core.evolution import imaginary\n",
    "from core.empirical import in_segregation\n",
    "\n",
    "au_l   = cte.value('atomic unit of length')\n",
    "au_t   = cte.value('atomic unit of time')\n",
    "au_e   = cte.value('atomic unit of energy')\n",
    "ev     = cte.value('electron volt')\n",
    "au2ang = au_l / 1e-10\n",
    "au2ev  = au_e / ev"
   ]
  },
  {
   "cell_type": "markdown",
   "metadata": {},
   "source": [
    "## função que gera o perfil de concentração"
   ]
  },
  {
   "cell_type": "code",
   "execution_count": 2,
   "metadata": {
    "collapsed": true
   },
   "outputs": [],
   "source": [
    "def concentration(x0, R, ml):\n",
    "    nsl = 6 * ml # number of surrounding layers (each side)\n",
    "    tl = ml + 2 * nsl  # total layers\n",
    "    # bulk before well\n",
    "    x = [0] * nsl\n",
    "    # well\n",
    "    for n in range(1, ml+1):\n",
    "        x.append(in_segregation(x0, R, n))\n",
    "    # barrier after well\n",
    "    for n in range(1, nsl+1):\n",
    "        x.append(in_segregation(x0, R, n+ml, ml))\n",
    "    return np.arange(1, len(x)+1), np.array(x)"
   ]
  },
  {
   "cell_type": "markdown",
   "metadata": {},
   "source": [
    "## parâmetros buscados"
   ]
  },
  {
   "cell_type": "code",
   "execution_count": 3,
   "metadata": {
    "collapsed": true
   },
   "outputs": [],
   "source": [
    "x0     = 0.16 # intended indium concentration\n",
    "R      = 0.85 # segregation parameter\n",
    "N      = 512 # number of grid points\n",
    "offset = (0.7, 0.3)\n",
    "\n",
    "# number of layers\n",
    "ml_grid = [6, 10, 14, 18, 22]\n",
    "\n",
    "# for ml in ml_grid:\n",
    "#     layers, in_x = concentration(x0, R, ml)\n",
    "#     plt.scatter(layers, in_x, label=\"Monolayers: %d\" % ml)\n",
    "\n",
    "# plt.xlabel('$x_0$ (In concentration)')\n",
    "# plt.xlabel('z (\\AA)')\n",
    "# plt.legend()\n",
    "# plt.plot()"
   ]
  },
  {
   "cell_type": "markdown",
   "metadata": {},
   "source": [
    "## parâmetros de acordo com Martini"
   ]
  },
  {
   "cell_type": "code",
   "execution_count": 4,
   "metadata": {
    "collapsed": true
   },
   "outputs": [],
   "source": [
    "a0   = np.vectorize(lambda x:  6.08 *x+(1-x)*  5.650)\n",
    "a    = np.vectorize(lambda x: -6.08 *x+(1-x)* -8.33 )\n",
    "b    = np.vectorize(lambda x: -1.55 *x+(1-x)* -1.90 )\n",
    "c11  = np.vectorize(lambda x:  0.83 *x+(1-x)*  1.22 )\n",
    "c12  = np.vectorize(lambda x:  0.45 *x+(1-x)*  0.57 )\n",
    "\n",
    "me   = np.vectorize(lambda x: 0.067*(1-0.426*x))\n",
    "mhhz = np.vectorize(lambda x: 0.34 *(1+0.117*x))"
   ]
  },
  {
   "cell_type": "markdown",
   "metadata": {},
   "source": [
    "## cálculo de acordo com o número de monolayers"
   ]
  },
  {
   "cell_type": "code",
   "execution_count": 5,
   "metadata": {},
   "outputs": [
    {
     "name": "stdout",
     "output_type": "stream",
     "text": [
      "ML=06, Ee=1.53919475, Te=144.6 s, Ehh=0.12440298, Thh=170.0 s, PL=3.08632699 eV\n"
     ]
    },
    {
     "ename": "KeyboardInterrupt",
     "evalue": "",
     "output_type": "error",
     "traceback": [
      "\u001b[0;31m---------------------------------------------------------------------------\u001b[0m",
      "\u001b[0;31mKeyboardInterrupt\u001b[0m                         Traceback (most recent call last)",
      "\u001b[0;32m<ipython-input-5-afe207d3c8f8>\u001b[0m in \u001b[0;36m<module>\u001b[0;34m()\u001b[0m\n\u001b[1;32m     34\u001b[0m     \u001b[0;31m#heavy_hole = imaginary(z_au,v_hh_au,np.min(mhhz(in_x_z)))\u001b[0m\u001b[0;34m\u001b[0m\u001b[0;34m\u001b[0m\u001b[0m\n\u001b[1;32m     35\u001b[0m \u001b[0;34m\u001b[0m\u001b[0m\n\u001b[0;32m---> 36\u001b[0;31m     \u001b[0melectron\u001b[0m   \u001b[0;34m=\u001b[0m \u001b[0mimaginary\u001b[0m\u001b[0;34m(\u001b[0m\u001b[0mz_au\u001b[0m\u001b[0;34m,\u001b[0m\u001b[0mv_e_au\u001b[0m \u001b[0;34m,\u001b[0m  \u001b[0mme\u001b[0m\u001b[0;34m(\u001b[0m\u001b[0min_x_z\u001b[0m\u001b[0;34m)\u001b[0m\u001b[0;34m,\u001b[0m \u001b[0mmethod\u001b[0m\u001b[0;34m=\u001b[0m\u001b[0;34m'cn'\u001b[0m\u001b[0;34m)\u001b[0m\u001b[0;34m\u001b[0m\u001b[0m\n\u001b[0m\u001b[1;32m     37\u001b[0m     \u001b[0mheavy_hole\u001b[0m \u001b[0;34m=\u001b[0m \u001b[0mimaginary\u001b[0m\u001b[0;34m(\u001b[0m\u001b[0mz_au\u001b[0m\u001b[0;34m,\u001b[0m\u001b[0mv_hh_au\u001b[0m\u001b[0;34m,\u001b[0m \u001b[0mmhhz\u001b[0m\u001b[0;34m(\u001b[0m\u001b[0min_x_z\u001b[0m\u001b[0;34m)\u001b[0m\u001b[0;34m,\u001b[0m \u001b[0mmethod\u001b[0m\u001b[0;34m=\u001b[0m\u001b[0;34m'cn'\u001b[0m\u001b[0;34m)\u001b[0m\u001b[0;34m\u001b[0m\u001b[0m\n\u001b[1;32m     38\u001b[0m \u001b[0;34m\u001b[0m\u001b[0m\n",
      "\u001b[0;32m~/Documents/thiago/softwares/time-evolution/core/evolution.py\u001b[0m in \u001b[0;36mimaginary\u001b[0;34m(z, v, m_eff, nmax, dt, precision, method)\u001b[0m\n\u001b[1;32m    187\u001b[0m \u001b[0;34m\u001b[0m\u001b[0m\n\u001b[1;32m    188\u001b[0m             \u001b[0;31m# normalize\u001b[0m\u001b[0;34m\u001b[0m\u001b[0;34m\u001b[0m\u001b[0m\n\u001b[0;32m--> 189\u001b[0;31m             \u001b[0mA\u001b[0m \u001b[0;34m=\u001b[0m \u001b[0mnp\u001b[0m\u001b[0;34m.\u001b[0m\u001b[0msqrt\u001b[0m\u001b[0;34m(\u001b[0m\u001b[0msimps\u001b[0m\u001b[0;34m(\u001b[0m\u001b[0mnp\u001b[0m\u001b[0;34m.\u001b[0m\u001b[0mabs\u001b[0m\u001b[0;34m(\u001b[0m\u001b[0meigenstates\u001b[0m\u001b[0;34m[\u001b[0m\u001b[0ms\u001b[0m\u001b[0;34m]\u001b[0m\u001b[0;34m)\u001b[0m\u001b[0;34m**\u001b[0m\u001b[0;36m2\u001b[0m\u001b[0;34m,\u001b[0m \u001b[0mz\u001b[0m\u001b[0;34m)\u001b[0m\u001b[0;34m)\u001b[0m\u001b[0;34m\u001b[0m\u001b[0m\n\u001b[0m\u001b[1;32m    190\u001b[0m             \u001b[0meigenstates\u001b[0m\u001b[0;34m[\u001b[0m\u001b[0ms\u001b[0m\u001b[0;34m]\u001b[0m \u001b[0;34m/=\u001b[0m \u001b[0mA\u001b[0m\u001b[0;34m\u001b[0m\u001b[0m\n\u001b[1;32m    191\u001b[0m             \u001b[0mtimers\u001b[0m\u001b[0;34m[\u001b[0m\u001b[0ms\u001b[0m\u001b[0;34m]\u001b[0m \u001b[0;34m+=\u001b[0m \u001b[0mtime\u001b[0m\u001b[0;34m.\u001b[0m\u001b[0mtime\u001b[0m\u001b[0;34m(\u001b[0m\u001b[0;34m)\u001b[0m \u001b[0;34m-\u001b[0m \u001b[0mstart_time\u001b[0m\u001b[0;34m\u001b[0m\u001b[0m\n",
      "\u001b[0;32m~/anaconda3/lib/python3.6/site-packages/scipy/integrate/quadrature.py\u001b[0m in \u001b[0;36msimps\u001b[0;34m(y, x, dx, axis, even)\u001b[0m\n\u001b[1;32m    425\u001b[0m                 \u001b[0mfirst_dx\u001b[0m \u001b[0;34m=\u001b[0m \u001b[0mx\u001b[0m\u001b[0;34m[\u001b[0m\u001b[0mtuple\u001b[0m\u001b[0;34m(\u001b[0m\u001b[0mslice2\u001b[0m\u001b[0;34m)\u001b[0m\u001b[0;34m]\u001b[0m \u001b[0;34m-\u001b[0m \u001b[0mx\u001b[0m\u001b[0;34m[\u001b[0m\u001b[0mtuple\u001b[0m\u001b[0;34m(\u001b[0m\u001b[0mslice1\u001b[0m\u001b[0;34m)\u001b[0m\u001b[0;34m]\u001b[0m\u001b[0;34m\u001b[0m\u001b[0m\n\u001b[1;32m    426\u001b[0m             \u001b[0mval\u001b[0m \u001b[0;34m+=\u001b[0m \u001b[0;36m0.5\u001b[0m\u001b[0;34m*\u001b[0m\u001b[0mfirst_dx\u001b[0m\u001b[0;34m*\u001b[0m\u001b[0;34m(\u001b[0m\u001b[0my\u001b[0m\u001b[0;34m[\u001b[0m\u001b[0mslice2\u001b[0m\u001b[0;34m]\u001b[0m\u001b[0;34m+\u001b[0m\u001b[0my\u001b[0m\u001b[0;34m[\u001b[0m\u001b[0mslice1\u001b[0m\u001b[0;34m]\u001b[0m\u001b[0;34m)\u001b[0m\u001b[0;34m\u001b[0m\u001b[0m\n\u001b[0;32m--> 427\u001b[0;31m             \u001b[0mresult\u001b[0m \u001b[0;34m+=\u001b[0m \u001b[0m_basic_simps\u001b[0m\u001b[0;34m(\u001b[0m\u001b[0my\u001b[0m\u001b[0;34m,\u001b[0m \u001b[0;36m1\u001b[0m\u001b[0;34m,\u001b[0m \u001b[0mN\u001b[0m\u001b[0;34m-\u001b[0m\u001b[0;36m2\u001b[0m\u001b[0;34m,\u001b[0m \u001b[0mx\u001b[0m\u001b[0;34m,\u001b[0m \u001b[0mdx\u001b[0m\u001b[0;34m,\u001b[0m \u001b[0maxis\u001b[0m\u001b[0;34m)\u001b[0m\u001b[0;34m\u001b[0m\u001b[0m\n\u001b[0m\u001b[1;32m    428\u001b[0m         \u001b[0;32mif\u001b[0m \u001b[0meven\u001b[0m \u001b[0;34m==\u001b[0m \u001b[0;34m'avg'\u001b[0m\u001b[0;34m:\u001b[0m\u001b[0;34m\u001b[0m\u001b[0m\n\u001b[1;32m    429\u001b[0m             \u001b[0mval\u001b[0m \u001b[0;34m/=\u001b[0m \u001b[0;36m2.0\u001b[0m\u001b[0;34m\u001b[0m\u001b[0m\n",
      "\u001b[0;32m~/anaconda3/lib/python3.6/site-packages/scipy/integrate/quadrature.py\u001b[0m in \u001b[0;36m_basic_simps\u001b[0;34m(y, start, stop, x, dx, axis)\u001b[0m\n\u001b[1;32m    324\u001b[0m         \u001b[0mh0divh1\u001b[0m \u001b[0;34m=\u001b[0m \u001b[0mh0\u001b[0m \u001b[0;34m/\u001b[0m \u001b[0mh1\u001b[0m\u001b[0;34m\u001b[0m\u001b[0m\n\u001b[1;32m    325\u001b[0m         tmp = hsum/6.0 * (y[slice0]*(2-1.0/h0divh1) +\n\u001b[0;32m--> 326\u001b[0;31m                           \u001b[0my\u001b[0m\u001b[0;34m[\u001b[0m\u001b[0mslice1\u001b[0m\u001b[0;34m]\u001b[0m\u001b[0;34m*\u001b[0m\u001b[0mhsum\u001b[0m\u001b[0;34m*\u001b[0m\u001b[0mhsum\u001b[0m\u001b[0;34m/\u001b[0m\u001b[0mhprod\u001b[0m \u001b[0;34m+\u001b[0m\u001b[0;34m\u001b[0m\u001b[0m\n\u001b[0m\u001b[1;32m    327\u001b[0m                           y[slice2]*(2-h0divh1))\n\u001b[1;32m    328\u001b[0m         \u001b[0mresult\u001b[0m \u001b[0;34m=\u001b[0m \u001b[0mnp\u001b[0m\u001b[0;34m.\u001b[0m\u001b[0msum\u001b[0m\u001b[0;34m(\u001b[0m\u001b[0mtmp\u001b[0m\u001b[0;34m,\u001b[0m \u001b[0maxis\u001b[0m\u001b[0;34m=\u001b[0m\u001b[0maxis\u001b[0m\u001b[0;34m)\u001b[0m\u001b[0;34m\u001b[0m\u001b[0m\n",
      "\u001b[0;31mKeyboardInterrupt\u001b[0m: "
     ]
    }
   ],
   "source": [
    "PL_nosso = []\n",
    "\n",
    "for ml in ml_grid:\n",
    "    layers, in_x = concentration(x0, R, ml)\n",
    "\n",
    "    def concentration_z(z):\n",
    "        position = 0.0\n",
    "        for x, a in zip(in_x, a0(in_x)):\n",
    "            position += a/2.0\n",
    "            if z < position:\n",
    "                return x\n",
    "        return in_x[0]\n",
    "\n",
    "    z      = np.linspace(0.0, np.sum(a0(in_x))/2.0, N)\n",
    "    in_x_z = np.vectorize(concentration_z)(z)\n",
    "    gap    = np.vectorize(lambda x: 1.5192-1.5837*x+0.475*x**2)(in_x_z)\n",
    "\n",
    "    _a   = a(in_x_z)\n",
    "    _b   = b(in_x_z)\n",
    "    _c11 = c11(in_x_z)\n",
    "    _c12 = c12(in_x_z)\n",
    "    _epp = (a0([0])[0]-a0(in_x_z))/a0(in_x_z)\n",
    "\n",
    "    gap_strain = gap + (2*_a*(_c11-_c12)-_b*(_c11+2*_c12))*_epp/_c11\n",
    "    gap_c      = offset[0] * gap_strain\n",
    "    gap_v      = offset[1] * gap_strain\n",
    "\n",
    "    z_au    = z/au2ang # angstrom to au\n",
    "    v_e_au  = (gap_c-np.min(gap_c))/au2ev # eV to au\n",
    "    v_hh_au = (gap_v-np.min(gap_v))/au2ev # eV to au\n",
    "    \n",
    "    # imaginary evolution\n",
    "    #electron   = imaginary(z_au,v_e_au,np.min(me(in_x_z)))\n",
    "    #heavy_hole = imaginary(z_au,v_hh_au,np.min(mhhz(in_x_z)))\n",
    "    \n",
    "    electron   = imaginary(z_au,v_e_au ,  me(in_x_z))\n",
    "    heavy_hole = imaginary(z_au,v_hh_au, mhhz(in_x_z))\n",
    "    \n",
    "    Ee      = electron['eigenvalues'][0]* au2ev\n",
    "    Ce      = electron['counters'][0]\n",
    "    Pe      = electron['precisions'][0]\n",
    "    Te      = electron['timers'][0]\n",
    "    Se      = electron['squared_euclidean_dist'][0]\n",
    "    Ee_es   = electron['eigenstates'][0]\n",
    "    \n",
    "    Ehh     = heavy_hole['eigenvalues'][0]* au2ev\n",
    "    Chh     = heavy_hole['counters'][0]\n",
    "    Phh     = heavy_hole['precisions'][0]\n",
    "    Thh     = heavy_hole['timers'][0]\n",
    "    Shh     = heavy_hole['squared_euclidean_dist'][0]\n",
    "    Ehh_es  = heavy_hole['eigenstates'][0]\n",
    "    \n",
    "    envelope  = Ee_es + Ehh_es\n",
    "    envelope  = envelope  / np.sqrt(simps(envelope.conj()*envelope, z))\n",
    "    z_med     = simps(envelope.conj()*z*envelope,z)\n",
    "    \n",
    "    #Ee_es  = Ee_es   / np.sqrt(simps(Ee_es.conj()  * Ee_es  , z))\n",
    "    #Ehh_es = Ehh_es  / np.sqrt(simps(Ehh_es.conj() * Ehh_es , z))\n",
    "    #z_med  = simps(Ehh_es.conj()*z*Ee_es,z)\n",
    "    \n",
    "    idx = np.max([i if _z < z_med else 0 for i, _z in enumerate(z)])\n",
    "    #gap_min = np.min(gap_strain)\n",
    "    gap_min = gap_strain[idx]\n",
    "    pl = gap_min+Ehh+Ee-7e-3\n",
    "    PL_nosso.append(pl)\n",
    "    \n",
    "    print(\"ML={0:02d}, Ee={1:.8f}, Te={2:04.1f} s, Ehh={3:.8f}, Thh={4:04.1f} s, PL={5:.8f} eV\".format(\n",
    "        ml, Ee, Te, Ehh, Thh, pl))"
   ]
  },
  {
   "cell_type": "markdown",
   "metadata": {},
   "source": [
    "## PL de acordo com Martini e Experimental"
   ]
  },
  {
   "cell_type": "code",
   "execution_count": null,
   "metadata": {
    "collapsed": true
   },
   "outputs": [],
   "source": [
    "PL_martini      = [1.50208315, 1.48793928, 1.4578344 , 1.4343612 , 1.41212442]\n",
    "PL_experimental = [1.50498686, 1.49103033, 1.46214312, 1.43623456, 1.41525293]"
   ]
  },
  {
   "cell_type": "markdown",
   "metadata": {},
   "source": [
    "## comparação"
   ]
  },
  {
   "cell_type": "code",
   "execution_count": null,
   "metadata": {},
   "outputs": [],
   "source": [
    "wl = [15, 27, 39, 51, 63]\n",
    "\n",
    "fig = plt.figure()\n",
    "ax  = fig.gca()\n",
    "\n",
    "ax.set_xticks(np.arange(0, 70.00, 5.000))\n",
    "ax.set_yticks(np.arange(0,  1.51, 0.005))\n",
    "ax.set_xlabel('well length (\\AA)')\n",
    "ax.set_ylabel('PL (eV)')\n",
    "\n",
    "ax.plot(wl, PL_martini     , '-o', label='Martini')\n",
    "ax.plot(wl, PL_experimental, '-o', label='Experimental')\n",
    "ax.plot(wl, PL_nosso       , '-o', label='Nosso calculo')\n",
    "\n",
    "plt.legend()\n",
    "plt.grid(True)\n",
    "plt.plot()"
   ]
  },
  {
   "cell_type": "code",
   "execution_count": null,
   "metadata": {
    "collapsed": true
   },
   "outputs": [],
   "source": []
  }
 ],
 "metadata": {
  "kernelspec": {
   "display_name": "Python 3",
   "language": "python",
   "name": "python3"
  },
  "language_info": {
   "codemirror_mode": {
    "name": "ipython",
    "version": 3
   },
   "file_extension": ".py",
   "mimetype": "text/x-python",
   "name": "python",
   "nbconvert_exporter": "python",
   "pygments_lexer": "ipython3",
   "version": "3.6.3"
  },
  "latex_envs": {
   "LaTeX_envs_menu_present": true,
   "autocomplete": true,
   "bibliofile": "biblio.bib",
   "cite_by": "apalike",
   "current_citInitial": 1,
   "eqLabelWithNumbers": true,
   "eqNumInitial": 1,
   "hotkeys": {
    "equation": "Ctrl-E",
    "itemize": "Ctrl-I"
   },
   "labels_anchors": false,
   "latex_user_defs": false,
   "report_style_numbering": false,
   "user_envs_cfg": false
  },
  "varInspector": {
   "cols": {
    "lenName": 16,
    "lenType": 16,
    "lenVar": 40
   },
   "kernels_config": {
    "python": {
     "delete_cmd_postfix": "",
     "delete_cmd_prefix": "del ",
     "library": "var_list.py",
     "varRefreshCmd": "print(var_dic_list())"
    },
    "r": {
     "delete_cmd_postfix": ") ",
     "delete_cmd_prefix": "rm(",
     "library": "var_list.r",
     "varRefreshCmd": "cat(var_dic_list()) "
    }
   },
   "types_to_exclude": [
    "module",
    "function",
    "builtin_function_or_method",
    "instance",
    "_Feature"
   ],
   "window_display": false
  }
 },
 "nbformat": 4,
 "nbformat_minor": 2
}
